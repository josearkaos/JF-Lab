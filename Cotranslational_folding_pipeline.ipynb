{
 "cells": [
  {
   "cell_type": "markdown",
   "metadata": {},
   "source": [
    "# Pipeline to run the cotranslational folding code"
   ]
  },
  {
   "cell_type": "markdown",
   "metadata": {},
   "source": [
    "This is the pipeline to run the code from: https://www.pnas.org/content/114/43/11434\n",
    "\n",
    "First we need to decide which protein to try: In this case we try: 1A3W. So we get the fasta sequence from the PDB repository:\n",
    "\n",
    "https://www.rcsb.org/fasta/entry/1M9H/display\n",
    "\n",
    ">1M9H_1|Chain A|2,5-diketo-D-gluconic acid reductase A|Corynebacterium sp. (1720)\n",
    "MTVPSIVLNDGNSIPQLGYGVYKVPPADTQRAVEEALEVGYRHIDTAAIYGNEEGVGAAIAASGIARDDLFITTKLWNDRHDGDEPAAAIAESLAKLALDQVDLYLVHWPTPAADNYVHAWEKMIELRAAGLTRSIGVSNHLVPHLERIVAATGVVPAVNQIELHPAYQQREITDWAAAHDVKIESWGPLGQGKYDLFGAEPVTAAAAAHGKTPAQAVLRWHLQKGFVVFPGSVRREHLEENLDVFDFDLTDTEIAAIDAMDPGDGSGRVSGHPDEVD\n",
    "\n",
    "We use it to run BLAST in expasy:\n",
    "\n",
    "https://web.expasy.org/blast/\n",
    "\n",
    "We get the first hit: \n",
    "\n",
    "https://www.uniprot.org/uniprot/P06632\n",
    "\n",
    "We look for cross reference databases: \n",
    "\n",
    "Cross-references\n",
    "Sequence databases\n",
    "Select the link destinations, then we click here: \n",
    "\n",
    "M12799 Genomic DNA Translation: AAA83534.1\n",
    "\n",
    "We get redirected here: https://www.ebi.ac.uk/ena/data/view/AAA83534\n",
    "\n",
    "And from there we get the fasta sequence: AAA83534.fasta\n",
    "\n",
    "We get it into our directory. Afterwards we get the PDB file in gunzip format (on the download part of the page): \n",
    "\n",
    "https://www.rcsb.org/structure/1M9H\n",
    "\n",
    "We download it in the same folder were we have the python script. Check next cell the contents of the folder\n",
    "\n"
   ]
  },
  {
   "cell_type": "code",
   "execution_count": 1,
   "metadata": {
    "scrolled": true
   },
   "outputs": [
    {
     "name": "stdout",
     "output_type": "stream",
     "text": [
      "\u001b[34m1m9h\u001b[m\u001b[m/                                   calc_consensus_contacts.py\r\n",
      "1m9h.pdb.gz                             calc_elongation.py\r\n",
      "\u001b[34m1w0m-test\u001b[m\u001b[m/                              calc_profile_comparison.py\r\n",
      "\u001b[34m1yxm-test\u001b[m\u001b[m/                              calc_rare_enrichment.py\r\n",
      "\u001b[34m2tps-test\u001b[m\u001b[m/                              codons.py\r\n",
      "AAA83534.fasta                          fe.py\r\n",
      "AAA83534_elongation_profile copy.txt    \u001b[34mhemk\u001b[m\u001b[m/\r\n",
      "AAA83534_elongation_profile.dat         parse-columns.py\r\n",
      "Cotranslational folding pipeline.ipynb  polymer.dat\r\n",
      "README                                  polymer.py\r\n",
      "\u001b[34m__pycache__\u001b[m\u001b[m/                            polymer_abs_energies.dat\r\n",
      "calc_absolute_energies.py               substructures.py\r\n",
      "calc_codon_usage.py\r\n"
     ]
    }
   ],
   "source": [
    "%ls"
   ]
  },
  {
   "cell_type": "code",
   "execution_count": 2,
   "metadata": {
    "scrolled": true
   },
   "outputs": [
    {
     "name": "stderr",
     "output_type": "stream",
     "text": [
      "@> 2301 atoms and 1 coordinate set(s) were parsed in 0.05s.\n"
     ]
    },
    {
     "name": "stdout",
     "output_type": "stream",
     "text": [
      "Found 1 chains.\n",
      "1m9h  98.20\n",
      "Using 1 chains with percentid >= 95.\n",
      "Number of residues: 278\n",
      "Minimum consensus fraction: 0.25\n",
      "Total bond energy: 249.234375\n",
      "Writing polymer.dat\n"
     ]
    }
   ],
   "source": [
    "%run calc_consensus_contacts.py AAA83534.fasta 1m9h"
   ]
  },
  {
   "cell_type": "code",
   "execution_count": 3,
   "metadata": {},
   "outputs": [
    {
     "name": "stdout",
     "output_type": "stream",
     "text": [
      "# Polymer: polymer.dat\n",
      "# mu = -2.0\n",
      "# ndim = 3.0\n",
      "# kuhnlength = 2.0\n",
      "# dFdN = -0.075\n",
      "# dF = -20.849999999999998\n",
      "# Number of residues: 278\n",
      "# Number of contacts: 688\n",
      "Writing polymer_abs_energies.dat\n"
     ]
    }
   ],
   "source": [
    "%run calc_absolute_energies.py polymer.dat"
   ]
  },
  {
   "cell_type": "code",
   "execution_count": 4,
   "metadata": {
    "scrolled": true
   },
   "outputs": [
    {
     "name": "stdout",
     "output_type": "stream",
     "text": [
      "# nresidues = 278\n",
      "# Writing AAA83534_elongation_profile.dat\n"
     ]
    }
   ],
   "source": [
    "%run calc_elongation.py AAA83534 polymer_abs_energies.dat"
   ]
  },
  {
   "cell_type": "code",
   "execution_count": 5,
   "metadata": {},
   "outputs": [
    {
     "name": "stdout",
     "output_type": "stream",
     "text": [
      "\u001b[34m1m9h\u001b[m\u001b[m/                                   calc_consensus_contacts.py\r\n",
      "1m9h.pdb.gz                             calc_elongation.py\r\n",
      "\u001b[34m1w0m-test\u001b[m\u001b[m/                              calc_profile_comparison.py\r\n",
      "\u001b[34m1yxm-test\u001b[m\u001b[m/                              calc_rare_enrichment.py\r\n",
      "\u001b[34m2tps-test\u001b[m\u001b[m/                              codons.py\r\n",
      "AAA83534.fasta                          fe.py\r\n",
      "AAA83534_elongation_profile copy.txt    \u001b[34mhemk\u001b[m\u001b[m/\r\n",
      "AAA83534_elongation_profile.dat         parse-columns.py\r\n",
      "Cotranslational folding pipeline.ipynb  polymer.dat\r\n",
      "README                                  polymer.py\r\n",
      "\u001b[34m__pycache__\u001b[m\u001b[m/                            polymer_abs_energies.dat\r\n",
      "calc_absolute_energies.py               substructures.py\r\n",
      "calc_codon_usage.py\r\n"
     ]
    }
   ],
   "source": [
    "%ls"
   ]
  },
  {
   "cell_type": "markdown",
   "metadata": {},
   "source": [
    "From here we use a script to parse the important columns from the file: AAA83534_elongation_profile.dat The important columns are the number of residue header (#) and F_L and we plot them. According to the publication we can estimate the presence of an intermediate in thevecinity of 150 aa. "
   ]
  },
  {
   "cell_type": "code",
   "execution_count": 30,
   "metadata": {},
   "outputs": [
    {
     "data": {
      "image/png": "[encoded data removed]",
      "text/plain": [
       "<Figure size 432x288 with 1 Axes>"
      ]
     },
     "metadata": {
      "needs_background": "light"
     },
     "output_type": "display_data"
    }
   ],
   "source": [
    "%run parse-columns.py"
   ]
  },
  {
   "cell_type": "code",
   "execution_count": null,
   "metadata": {},
   "outputs": [],
   "source": []
  }
 ],
 "metadata": {
  "kernelspec": {
   "display_name": "Python 3",
   "language": "python",
   "name": "python3"
  },
  "language_info": {
   "codemirror_mode": {
    "name": "ipython",
    "version": 3
   },
   "file_extension": ".py",
   "mimetype": "text/x-python",
   "name": "python",
   "nbconvert_exporter": "python",
   "pygments_lexer": "ipython3",
   "version": "3.7.3"
  }
 },
 "nbformat": 4,
 "nbformat_minor": 4
}
